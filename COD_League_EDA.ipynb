{
 "cells": [
  {
   "cell_type": "code",
   "execution_count": 1,
   "metadata": {},
   "outputs": [],
   "source": [
    "import pandas as pd\n",
    "import numpy as np\n",
    "import matplotlib.pyplot as plt"
   ]
  },
  {
   "cell_type": "code",
   "execution_count": 2,
   "metadata": {},
   "outputs": [],
   "source": [
    "df = pd.read_csv('data/hardpoint.csv')"
   ]
  },
  {
   "cell_type": "markdown",
   "metadata": {},
   "source": [
    "### Create 1 & 0 values for if the home team wins"
   ]
  },
  {
   "cell_type": "code",
   "execution_count": 18,
   "metadata": {},
   "outputs": [],
   "source": [
    "df['home_team_won'] = np.where((df['winning_team_id'] == df['home_team_id']), 1, 0)"
   ]
  },
  {
   "cell_type": "code",
   "execution_count": 22,
   "metadata": {
    "scrolled": true
   },
   "outputs": [
    {
     "data": {
      "text/html": [
       "<div>\n",
       "<style scoped>\n",
       "    .dataframe tbody tr th:only-of-type {\n",
       "        vertical-align: middle;\n",
       "    }\n",
       "\n",
       "    .dataframe tbody tr th {\n",
       "        vertical-align: top;\n",
       "    }\n",
       "\n",
       "    .dataframe thead th {\n",
       "        text-align: right;\n",
       "    }\n",
       "</style>\n",
       "<table border=\"1\" class=\"dataframe\">\n",
       "  <thead>\n",
       "    <tr style=\"text-align: right;\">\n",
       "      <th></th>\n",
       "      <th>match_id</th>\n",
       "      <th>home_team</th>\n",
       "      <th>home_team_id</th>\n",
       "      <th>away_team</th>\n",
       "      <th>away_team_id</th>\n",
       "      <th>home_team_wins</th>\n",
       "      <th>away_team_wins</th>\n",
       "      <th>winning_team_id</th>\n",
       "      <th>losing_team_id</th>\n",
       "      <th>game_1_id</th>\n",
       "      <th>...</th>\n",
       "      <th>game_4_winning_team</th>\n",
       "      <th>game_4_losing_team</th>\n",
       "      <th>game_5_id</th>\n",
       "      <th>game_5_map</th>\n",
       "      <th>game_5_gametype</th>\n",
       "      <th>game_5_lang</th>\n",
       "      <th>game_5_home_score</th>\n",
       "      <th>game_5_away_score</th>\n",
       "      <th>game_5_winning_team</th>\n",
       "      <th>game_5_losing_team</th>\n",
       "    </tr>\n",
       "    <tr>\n",
       "      <th>home_team_won</th>\n",
       "      <th></th>\n",
       "      <th></th>\n",
       "      <th></th>\n",
       "      <th></th>\n",
       "      <th></th>\n",
       "      <th></th>\n",
       "      <th></th>\n",
       "      <th></th>\n",
       "      <th></th>\n",
       "      <th></th>\n",
       "      <th></th>\n",
       "      <th></th>\n",
       "      <th></th>\n",
       "      <th></th>\n",
       "      <th></th>\n",
       "      <th></th>\n",
       "      <th></th>\n",
       "      <th></th>\n",
       "      <th></th>\n",
       "      <th></th>\n",
       "      <th></th>\n",
       "    </tr>\n",
       "  </thead>\n",
       "  <tbody>\n",
       "    <tr>\n",
       "      <th>0</th>\n",
       "      <td>77</td>\n",
       "      <td>77</td>\n",
       "      <td>77</td>\n",
       "      <td>77</td>\n",
       "      <td>77</td>\n",
       "      <td>77</td>\n",
       "      <td>77</td>\n",
       "      <td>77</td>\n",
       "      <td>77</td>\n",
       "      <td>77</td>\n",
       "      <td>...</td>\n",
       "      <td>77</td>\n",
       "      <td>77</td>\n",
       "      <td>77</td>\n",
       "      <td>77</td>\n",
       "      <td>77</td>\n",
       "      <td>77</td>\n",
       "      <td>77</td>\n",
       "      <td>77</td>\n",
       "      <td>77</td>\n",
       "      <td>77</td>\n",
       "    </tr>\n",
       "    <tr>\n",
       "      <th>1</th>\n",
       "      <td>91</td>\n",
       "      <td>91</td>\n",
       "      <td>91</td>\n",
       "      <td>91</td>\n",
       "      <td>91</td>\n",
       "      <td>91</td>\n",
       "      <td>91</td>\n",
       "      <td>91</td>\n",
       "      <td>91</td>\n",
       "      <td>91</td>\n",
       "      <td>...</td>\n",
       "      <td>91</td>\n",
       "      <td>91</td>\n",
       "      <td>91</td>\n",
       "      <td>91</td>\n",
       "      <td>91</td>\n",
       "      <td>91</td>\n",
       "      <td>91</td>\n",
       "      <td>91</td>\n",
       "      <td>91</td>\n",
       "      <td>91</td>\n",
       "    </tr>\n",
       "  </tbody>\n",
       "</table>\n",
       "<p>2 rows × 49 columns</p>\n",
       "</div>"
      ],
      "text/plain": [
       "               match_id  home_team  home_team_id  away_team  away_team_id  \\\n",
       "home_team_won                                                               \n",
       "0                    77         77            77         77            77   \n",
       "1                    91         91            91         91            91   \n",
       "\n",
       "               home_team_wins  away_team_wins  winning_team_id  \\\n",
       "home_team_won                                                    \n",
       "0                          77              77               77   \n",
       "1                          91              91               91   \n",
       "\n",
       "               losing_team_id  game_1_id  ...  game_4_winning_team  \\\n",
       "home_team_won                             ...                        \n",
       "0                          77         77  ...                   77   \n",
       "1                          91         91  ...                   91   \n",
       "\n",
       "               game_4_losing_team  game_5_id  game_5_map  game_5_gametype  \\\n",
       "home_team_won                                                               \n",
       "0                              77         77          77               77   \n",
       "1                              91         91          91               91   \n",
       "\n",
       "               game_5_lang  game_5_home_score  game_5_away_score  \\\n",
       "home_team_won                                                      \n",
       "0                       77                 77                 77   \n",
       "1                       91                 91                 91   \n",
       "\n",
       "               game_5_winning_team  game_5_losing_team  \n",
       "home_team_won                                           \n",
       "0                               77                  77  \n",
       "1                               91                  91  \n",
       "\n",
       "[2 rows x 49 columns]"
      ]
     },
     "execution_count": 22,
     "metadata": {},
     "output_type": "execute_result"
    }
   ],
   "source": [
    "df.groupby('home_team_won').count()"
   ]
  },
  {
   "cell_type": "code",
   "execution_count": 24,
   "metadata": {},
   "outputs": [],
   "source": [
    "yeet = np.array([[1,2,3], [4,5,6], [7,8,9]])"
   ]
  },
  {
   "cell_type": "code",
   "execution_count": 28,
   "metadata": {},
   "outputs": [
    {
     "name": "stdout",
     "output_type": "stream",
     "text": [
      "2.0\n",
      "5.0\n",
      "8.0\n"
     ]
    }
   ],
   "source": [
    "for i in yeet:\n",
    "    print(np.mean(i))"
   ]
  },
  {
   "cell_type": "code",
   "execution_count": null,
   "metadata": {},
   "outputs": [],
   "source": []
  }
 ],
 "metadata": {
  "kernelspec": {
   "display_name": "Python 3",
   "language": "python",
   "name": "python3"
  },
  "language_info": {
   "codemirror_mode": {
    "name": "ipython",
    "version": 3
   },
   "file_extension": ".py",
   "mimetype": "text/x-python",
   "name": "python",
   "nbconvert_exporter": "python",
   "pygments_lexer": "ipython3",
   "version": "3.7.3"
  }
 },
 "nbformat": 4,
 "nbformat_minor": 2
}
