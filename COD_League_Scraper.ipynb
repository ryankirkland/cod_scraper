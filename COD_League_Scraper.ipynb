{
 "cells": [
  {
   "cell_type": "code",
   "execution_count": 5,
   "metadata": {},
   "outputs": [],
   "source": [
    "import pandas as pd\n",
    "import numpy as np\n",
    "from bs4 import BeautifulSoup\n",
    "import requests"
   ]
  },
  {
   "cell_type": "code",
   "execution_count": 8,
   "metadata": {},
   "outputs": [],
   "source": [
    "cod_site_data = requests.get('https://callofdutyleague.com/en-us/match/3638')"
   ]
  },
  {
   "cell_type": "code",
   "execution_count": 11,
   "metadata": {},
   "outputs": [],
   "source": [
    "cod_site_content = cod_site_data.content"
   ]
  },
  {
   "cell_type": "code",
   "execution_count": 12,
   "metadata": {},
   "outputs": [
    {
     "data": {
      "text/plain": [
       "b'<!DOCTYPE html><html><head><meta charSet=\"UTF-8\"/><title>Call of Duty League - Match Detail</title><meta content=\"Call of Duty League - Match Detail\" name=\"title\"/><meta content=\"width=device-width, initial-scale=1 shrink-to-fit=no, user-scalable=0\" name=\"viewport\"/><link href=\"/static/styles/owl-font-style.css\" rel=\"stylesheet\"/><link href=\"/static/styles/owl-heroes-font-style.css\" rel=\"stylesheet\"/><link href=\"https://callofdutyleague.com/\" rel=\"canonical\"/><script>(function(w,d,s,l,i){w[l]=w[l]||[];w[l].push({\\'gtm.start\\':\\n                        new Date().getTime(),event:\\'gtm.js\\'});var f=d.getElementsByTagName(s)[0],\\n                        j=d.createElement(s),dl=l!=\\'dataLayer\\'?\\'&l=\\'+l:\\'\\';j.async=true;j.src=\\n                        \\'https://www.googletagmanager.com/gtm.js?id=\\'+i+dl;f.parentNode.insertBefore(j,f);\\n                        })(window,document,\\'script\\',\\'dataLayer\\',\\'GTM-NCHFKXC\\');</script><link href=\"https://images.blz-contentstack.com/v3/assets/blta7b34f1f894a2422/bltf3cdb76182c1a1d7/5d79c2bccfdefb1cd5f97376/favicon-32x32.png?auto=webp\" rel=\"icon\" type=\"image/png\"/><link href=\"https://images.blz-contentstack.com/v3/assets/blta7b34f1f894a2422/bltb6fa61228ce745cd/5d79c2c9cfdefb1cd5f9737c/apple-touch-icon.png?auto=webp\" rel=\"apple-touch-icon\" sizes=\"180x180\" type=\"image/png\"/><script src=\"https://cc.res.netease.com/act/1m/cc_player/entries/api.js\"></script><link href=\"/static/favicons/cdl.png\" rel=\"icon\" type=\"image/png\"/><link href=\"/static/favicons/cdl-apple-touch-icon.png\" rel=\"apple-touch-icon\" sizes=\"180x180\" type=\"image/png\"/><script src=\"/static/scripts/cdl/bootstrap-blz-cookie-conset.js\"></script><script defer=\"\" src=\"/static/scripts/vendor/cookie-consent-filter-compat.js\"></script><script src=\"https://app.singular.live/libs/singularoverlay/0.1.0/singularoverlay.js\"></script><script src=\"/static/scripts/vendor/youtube_iframe_api.js\"></script><meta name=\"next-head-count\" content=\"17\"/><link rel=\"preload\" href=\"/_next/static/6Zjwb09_YDEr3erQiK4t5/pages/_app.js\" as=\"script\"/><link rel=\"preload\" href=\"/_next/static/6Zjwb09_YDEr3erQiK4t5/pages/index.js\" as=\"script\"/><link rel=\"preload\" href=\"/_next/static/runtime/webpack-e2a9af5f7c1ed89532f8.js\" as=\"script\"/><link rel=\"preload\" href=\"/_next/static/chunks/framework.d5e378f749478f7a30ce.js\" as=\"script\"/><link rel=\"preload\" href=\"/_next/static/chunks/commons.0d048e42840bfe260c93.js\" as=\"script\"/><link rel=\"preload\" href=\"/_next/static/runtime/main-c0babdf89834e560dadc.js\" as=\"script\"/><link rel=\"preload\" href=\"/_next/static/chunks/ae543ae850ba9069242c7921ea03017a5afaf682.5a2d190da23173797144.js\" as=\"script\"/><style data-styled=\"fghKsE\" data-styled-version=\"4.2.0\">\\n/* sc-component-id: indexstyles__PageContainer-pu1n5t-1 */\\n.fghKsE{position:relative;}\\n/* sc-component-id: sc-global-1080291398 */\\n@import url(\"https://fonts.googleapis.com/css?family=Noto+Sans+JP|Noto+Sans+KR|Noto+Sans+SC|Noto+Sans+TC|Roboto\"); @font-face{font-family:\"Industry\";src:url(\"/static/fonts/Industry/INDUSTRY-LIGHT.OTF\") format(\"opentype\");font-weight:200;font-style:normal;} @font-face{font-family:\"Industry\";src:url(\"/static/fonts/Industry/INDUSTRY-LIGHTITALIC.OTF\") format(\"opentype\");font-weight:200;font-style:italic;} @font-face{font-family:\"Industry\";src:url(\"/static/fonts/Industry/INDUSTRY-THIN.OTF\") format(\"opentype\");font-weight:250;font-style:normal;} @font-face{font-family:\"Industry\";src:url(\"/static/fonts/Industry/INDUSTRY-THINITALIC.OTF\") format(\"opentype\");font-weight:250;font-style:italic;} @font-face{font-family:\"Industry\";src:url(\"/static/fonts/Industry/INDUSTRY-DEMI.OTF\") format(\"opentype\");font-weight:300;font-style:normal;} @font-face{font-family:\"Industry\";src:url(\"/static/fonts/Industry/INDUSTRY-DEMIITALIC.OTF\") format(\"opentype\");font-weight:300;font-style:italic;} @font-face{font-family:\"Industry\";src:url(\"/static/fonts/Industry/INDUSTRY-BOOK.OTF\") format(\"opentype\");font-weight:350;font-style:normal;} @font-face{font-family:\"Industry\";src:url(\"/static/fonts/Industry/INDUSTRY-BOOKITALIC.OTF\") format(\"opentype\");font-weight:350;font-style:italic;} @font-face{font-family:\"Industry\";src:url(\"/static/fonts/Industry/INDUSTRY-MEDIUM.OTF\") format(\"opentype\");font-weight:500;font-style:normal;} @font-face{font-family:\"Industry\";src:url(\"/static/fonts/Industry/INDUSTRY-MEDIUMITALIC.OTF\") format(\"opentype\");font-weight:500;font-style:italic;} @font-face{font-family:\"Industry\";src:url(\"/static/fonts/Industry/INDUSTRY-BOLD.OTF\") format(\"opentype\");font-weight:bold;font-style:normal;} @font-face{font-family:\"Industry\";src:url(\"/static/fonts/Industry/INDUSTRY-BOLDITALIC.OTF\") format(\"opentype\");font-weight:bold;font-style:italic;} @font-face{font-family:\"Industry\";src:url(\"/static/fonts/Industry/INDUSTRY-BLACK.OTF\") format(\"opentype\");font-weight:800;font-style:normal;} @font-face{font-family:\"Industry\";src:url(\"/static/fonts/Industry/INDUSTRY-BLACKITALIC.OTF\") format(\"opentype\");font-weight:800;font-style:italic;} @font-face{font-family:\"RobotoMono\";src:url(\"/static/fonts/RobotoMono/RobotoMono-Light.ttf\") format(\"opentype\");font-weight:200;font-style:normal;} @font-face{font-family:\"RobotoMono\";src:url(\"/static/fonts/RobotoMono/RobotoMono-LightItalic.ttf\") format(\"opentype\");font-weight:200;font-style:italic;} @font-face{font-family:\"RobotoMono\";src:url(\"/static/fonts/RobotoMono/RobotoMono-Thin.ttf\") format(\"opentype\");font-weight:250;font-style:normal;} @font-face{font-family:\"RobotoMono\";src:url(\"/static/fonts/RobotoMono/RobotoMono-ThinItalic.ttf\") format(\"opentype\");font-weight:250;font-style:italic;} @font-face{font-family:\"RobotoMono\";src:url(\"/static/fonts/RobotoMono/RobotoMono-Medium.ttf\") format(\"opentype\");font-weight:500;font-style:normal;} @font-face{font-family:\"RobotoMono\";src:url(\"/static/fonts/RobotoMono/RobotoMono-Regular.ttf\") format(\"opentype\");font-weight:normal;font-style:normal;} @font-face{font-family:\"RobotoMono\";src:url(\"/static/fonts/RobotoMono/RobotoMono-Italic.ttf\") format(\"opentype\");font-weight:normal;font-style:italic;} @font-face{font-family:\"RobotoMono\";src:url(\"/static/fonts/RobotoMono/RobotoMono-Bold.ttf\") format(\"opentype\");font-weight:bold;} @font-face{font-family:\"RobotoMono\";src:url(\"/static/fonts/RobotoMono/RobotoMono-BoldItalic.ttf\") format(\"opentype\");font-weight:bold;font-style:italic;} @font-face{font-family:\"RobotoMono\";src:url(\"/static/fonts/RobotoMono/RobotoMono-BoldItalic.ttf\") format(\"opentype\");font-weight:bold;font-style:italic;} @font-face{font-family:\"Abolition\";src:url(\"/static/fonts/Abolition/Abolition-W00-Regular.ttf\") format(\"opentype\");font-weight:normal;} @font-face{font-family:\"Shentox\";src:url(\"/static/fonts/Shentox/Shentox-SemiBold.otf\") format(\"opentype\");font-weight:normal;} body{background-color:#f2f2f2;font-family:Industry;margin:0;padding:0;} html{box-sizing:border-box;margin:0;padding:0;} *,*:before,*:after{box-sizing:inherit;} .Navbar-desktop,.Navbar-mobile{display:none;} @media only screen and (min-width:992px){.Navbar-desktop{display:block;}}</style></head><body><div id=\"__next\"><div class=\"indexstyles__PageContainer-pu1n5t-1 fghKsE\"><div></div><noscript><iframe src=\"https://www.googletagmanager.com/ns.html?id=GTM-NCHFKXC\"\\n                        height=\"0\" width=\"0\" style=\"display:none;visibility:hidden\"></iframe></noscript></div></div><script id=\"__NEXT_DATA__\" type=\"application/json\">{\"props\":{\"pageProps\":{\"blocks\":[{\"cdlTopNavigationBar\":{\"config\":{\"disableBottomMargin\":true},\"Version\":120,\"locale\":\"en-us\",\"uid\":\"bltb0376bad0bbc34b0\",\"ACL\":{},\"InProgress\":false,\"createdAt\":\"2019-09-24T04:06:02.893Z\",\"createdBy\":\"blt4f7f7256a2373fb7\",\"drawerLogo\":{\"src\":\"https://images.blz-contentstack.com/v3/assets/blta7b34f1f894a2422/blta281cef326a765a6/5d8bd6077faf135d5befd32b/mobile_logo.svg?auto=webp\"},\"logo\":{\"src\":\"https://images.blz-contentstack.com/v3/assets/blta7b34f1f894a2422/blt10f0d59f97d93946/5d8940702f5989598fc7de16/CDL_Logo.svg?auto=webp\",\"alt\":\"\"},\"menu\":[{\"title\":\"League\",\"url\":\"\",\"type\":\"container\",\"subMenu\":[{\"title\":\"About\",\"url\":\"/en-us/about?utm_source=cdlweb\\\\u0026utm_medium=navigationbar\\\\u0026utm_campaign=general\",\"type\":\"internal\"},{\"title\":\"Challengers\",\"url\":\"/en-us/challengers?utm_source=cdlweb\\\\u0026utm_medium=navigationbar\\\\u0026utm_campaign=general\",\"type\":\"internal\"},{\"title\":\"City Circuit\",\"url\":\"/en-us/city-circuit?utm_source=cdlweb\\\\u0026utm_medium=navigationbar\\\\u0026utm_campaign=general\",\"type\":\"internal\"},{\"title\":\"Competitive Settings\",\"url\":\"/en-us/competitive-settings?utm_source=cdlweb\\\\u0026utm_medium=navigationbar\\\\u0026utm_campaign=general\",\"type\":\"internal\"},{\"title\":\"Impact\",\"url\":\"/en-us/impact?utm_source=cdlweb\\\\u0026utm_medium=navigationbar\\\\u0026utm_campaign=general\",\"type\":\"internal\"},{\"title\":\"Player Tracker\",\"url\":\"/en-us/player-tracker?utm_source=cdlweb\\\\u0026utm_medium=navigationbar\\\\u0026utm_campaign=general\",\"type\":\"internal\"},{\"title\":\"Team Packs\",\"url\":\"/en-us/teampacks?utm_source=web\\\\u0026utm_medium=nav\\\\u0026utm_campaign=packs\",\"type\":\"internal\"},{\"title\":\"Sign Up\",\"url\":\"/en-us/stay-connected?utm_source=cdlweb\\\\u0026utm_medium=navigationbar\\\\u0026utm_campaign=general\",\"type\":\"internal\"}]},{\"title\":\"Teams\",\"url\":\"/en-us/teams?utm_source=cdlweb\\\\u0026utm_medium=navigationbar\\\\u0026utm_campaign=general\",\"type\":\"internal\",\"subMenu\":[]},{\"title\":\"Bracket Builder\",\"url\":\"/en-us/all-star-weekend?utm_source=cdlweb\\\\u0026utm_medium=navigationbar\\\\u0026utm_campaign=general\",\"type\":\"internal\",\"subMenu\":[]},{\"title\":\"Schedule\",\"url\":\"/en-us/schedule?utm_source=cdlweb\\\\u0026utm_medium=navigationbar\\\\u0026utm_campaign=general\",\"type\":\"internal\",\"subMenu\":[]},{\"title\":\"Standings\",\"url\":\"/en-us/standings?utm_source=cdlweb\\\\u0026utm_medium=navigationbar\\\\u0026utm_campaign=general\",\"type\":\"internal\",\"subMenu\":[]},{\"title\":\"News\",\"url\":\"/en-us/news?utm_source=cdlweb\\\\u0026utm_medium=navigationbar\\\\u0026utm_campaign=general\",\"type\":\"internal\",\"subMenu\":[]},{\"title\":\"Videos\",\"url\":\"/en-us/videos?utm_source=cdlweb\\\\u0026utm_medium=navigationbar\\\\u0026utm_campaign=general\",\"type\":\"internal\",\"subMenu\":[]},{\"title\":\"More\",\"url\":\"\",\"type\":\"container\",\"subMenu\":[{\"title\":\"Astro MVP\",\"url\":\"/en-us/astro-mvp?utm_source=cdlweb\\\\u0026utm_medium=navigationbar\\\\u0026utm_campaign=general\",\"type\":\"internal\"},{\"title\":\"CDL Champs Pack\",\"url\":\"/en-us/cdl-champs-pack?utm_source=cdlweb\\\\u0026utm_medium=navigationbar\\\\u0026utm_campaign=general\",\"type\":\"internal\"},{\"title\":\"CDL Team Support Pack\",\"url\":\"/en-us/cdl-team-support-pack?utm_source=cdlweb\\\\u0026utm_medium=navigationbar\\\\u0026utm_campaign=general\",\"type\":\"internal\"},{\"title\":\"Collegiate\",\"url\":\"/en-us/collegiate?utm_source=cdlweb\\\\u0026utm_medium=navigationbar\\\\u0026utm_campaign=general\",\"type\":\"internal\"},{\"title\":\"Fan Choice Awards\",\"url\":\"/en-us/fan-choice-awards?utm_source=cdlweb\\\\u0026utm_medium=navigationbar\\\\u0026utm_campaign=general\",\"type\":\"internal\"}]},{\"title\":\"Shop\",\"url\":\"https://blizz.ly/2Pcn6Ur\",\"type\":\"external\",\"subMenu\":[]}],\"mobileLogo\":{\"src\":\"https://images.blz-contentstack.com/v3/assets/blta7b34f1f894a2422/blt8b2f9738065092ed/5d9f61e5c9173c04f2e4aa3d/logo-cdl-logo-horizontal-wht@2x.png?auto=webp\"},\"socialNetworks\":[],\"tags\":[],\"title\":\"Header Home V2\",\"updatedAt\":\"2020-09-10T00:36:23.505Z\",\"updatedBy\":\"blt42192c9dc0a8617f\",\"urlLogo\":\"/\",\"publishDetails\":{\"environment\":\"blt32369acdba41f6a8\",\"locale\":\"en-us\",\"time\":\"2020-09-10T00:37:46.023Z\",\"user\":\"blt42192c9dc0a8617f\"},\"ContentTypeUid\":\"block_cdl_top_navigation_bar\",\"languages\":[{\"displayCode\":\"FR\",\"countryCode\":\"FR\",\"name\":\"French\",\"code\":\"fr-fr\"},{\"displayCode\":\"ES\",\"countryCode\":\"ES\",\"name\":\"Spanish\",\"code\":\"es-es\"},{\"displayCode\":\"EN\",\"countryCode\":\"US\",\"name\":\"English\",\"code\":\"en-us\"}]}},{\"cdlMatchDetail\":{\"matchData\":{\"matchExtended\":{\"homeTeamCard\":{\"id\":7,\"name\":\"Atlanta FaZe\",\"abbreviation\":\"ATL\",\"lightLogoUrl\":\"https://images.blz-contentstack.com/v3/assets/blta7b34f1f894a2422/blt6ec730c1178cc1cd/5dd596f49147457fdde604ba/ATL-FAZ_Primary-Logo.png\",\"darkLogoUrl\":\"https://images.blz-contentstack.com/v3/assets/blta7b34f1f894a2422/blte85ebc345d4dcc98/5dc48a1813b457491b4beba3/ATL-FAZ_Alternate-Logo-2@3x.png\",\"color\":\"#e43d30\"},\"awayTeamCard\":{\"id\":12,\"name\":\"Minnesota R\\xc3\\xb8kkr\",\"abbreviation\":\"MIN\",\"lightLogoUrl\":\"https://images.blz-contentstack.com/v3/assets/blta7b34f1f894a2422/bltd7928f59c7886699/5dd596f413b457491b4bf113/MIN-ROK_Primary-Logo.png\",\"darkLogoUrl\":\"https://images.blz-contentstack.com/v3/assets/blta7b34f1f894a2422/bltd7928f59c7886699/5dd596f413b457491b4bf113/MIN-ROK_Primary-Logo.png\",\"color\":\"#351f65\"},\"competition\":{\"id\":181,\"competitionType\":\"DOUBLE_ELIM_BRACKET\",\"sequence\":2},\"match\":{\"id\":3638,\"playTime\":1595620800,\"status\":\"COMPLETED\",\"vodLink\":\"https://www.youtube.com/watch?v=jOHoHU7vBws\",\"stageHomeTeamId\":1856,\"createdAt\":1587081860,\"updatedAt\":1595631747,\"displayStatus\":\"FINAL\"},\"result\":{\"homeTeamGamesWon\":3,\"awayTeamGamesWon\":0,\"winnerTeamId\":7,\"loserTeamId\":12},\"broadcastLinks\":[{\"url\":\"https://www.youtube.com/watch?v=JoCGwLsLIVk\",\"isDefault\":true,\"broadcastPartnerId\":7,\"broadcastPartnerName\":\"Youtube\",\"broadcastPartnerLogo\":\"https://images.blz-contentstack.com/v3/assets/blta7b34f1f894a2422/blt48500031e3945e03/5de85ffb8691147ecf07cb9d/YouTube.png\"}]},\"matchGamesExtended\":[{\"matchGame\":{\"id\":5310,\"matchId\":3638,\"number\":0,\"map\":\"Rammaza\",\"mode\":\"Hardpoint\",\"createdAt\":1587082020,\"updatedAt\":1595622218,\"gameMap\":{\"locale\":\"en-us\",\"ACL\":{},\"InProgress\":false,\"Version\":1,\"abbreviatedName\":\"Rammaza\",\"createdAt\":\"2020-01-24T19:41:36.777Z\",\"createdBy\":\"blt85aae568f2119ad8\",\"description\":\"\",\"desktopImage\":{\"src\":\"https://images.blz-contentstack.com/v3/assets/blta7b34f1f894a2422/blte900e2332f6357a4/5e2b46b6a9cce63cb6048c14/Rammaza_Loading_3x.png?auto=webp\"},\"displayName\":\"Rammaza\",\"mapId\":\"Rammaza\",\"mobileImage\":{\"src\":\"https://images.blz-contentstack.com/v3/assets/blta7b34f1f894a2422/blte1b61401542bf61d/5e2b47478935e93cd6a9fa6f/Rammaza_Loading_M3x.png?auto=webp\"},\"tags\":[],\"title\":\"Rammaza\",\"uid\":\"blt182c0faf91ae2381\",\"updatedAt\":\"2020-01-24T19:41:36.777Z\",\"updatedBy\":\"blt85aae568f2119ad8\",\"publishDetails\":{\"environment\":\"blt32369acdba41f6a8\",\"locale\":\"en-us\",\"time\":\"2020-01-24T19:41:44.094Z\",\"user\":\"blt85aae568f2119ad8\"}}},\"matchGameResult\":{\"hostGameScore\":250,\"guestGameScore\":237,\"winnerTeamId\":7,\"loserTeamId\":12}},{\"matchGame\":{\"id\":5311,\"matchId\":3638,\"number\":1,\"map\":\"Gun Runner\",\"mode\":\"Search and Destroy\",\"createdAt\":1587082020,\"updatedAt\":1595623136,\"gameMap\":{\"locale\":\"en-us\",\"ACL\":{},\"InProgress\":false,\"Version\":1,\"abbreviatedName\":\"Gun Runner\",\"createdAt\":\"2020-01-24T19:40:01.583Z\",\"createdBy\":\"blt85aae568f2119ad8\",\"description\":\"\",\"desktopImage\":{\"src\":\"https://images.blz-contentstack.com/v3/assets/blta7b34f1f894a2422/blt40e0ccc2fe76a4c7/5e2b46b671e37241baaabdf5/Gun_Runner_Loading_3x.png?auto=webp\"},\"displayName\":\"Gun Runner\",\"mapId\":\"Gun Runner\",\"mobileImage\":{\"src\":\"https://images.blz-contentstack.com/v3/assets/blta7b34f1f894a2422/blt3c250e9838d7d158/5e2b476171e37241baaabe01/Gun_Runner_Loading_M3x.png?auto=webp\"},\"tags\":[],\"title\":\"Gun Runner\",\"uid\":\"blt1e868210a7ba236c\",\"updatedAt\":\"2020-01-24T19:40:01.583Z\",\"updatedBy\":\"blt85aae568f2119ad8\",\"publishDetails\":{\"environment\":\"blt32369acdba41f6a8\",\"locale\":\"en-us\",\"time\":\"2020-01-24T19:40:11.005Z\",\"user\":\"blt85aae568f2119ad8\"}}},\"matchGameResult\":{\"hostGameScore\":6,\"guestGameScore\":1,\"winnerTeamId\":7,\"loserTeamId\":12}},{\"matchGame\":{\"id\":5312,\"matchId\":3638,\"number\":2,\"map\":\"Gun Runner\",\"mode\":\"Domination\",\"createdAt\":1587082020,\"updatedAt\":1595624430,\"gameMap\":{\"locale\":\"en-us\",\"ACL\":{},\"InProgress\":false,\"Version\":1,\"abbreviatedName\":\"Gun Runner\",\"createdAt\":\"2020-01-24T19:40:01.583Z\",\"createdBy\":\"blt85aae568f2119ad8\",\"description\":\"\",\"desktopImage\":{\"src\":\"https://images.blz-contentstack.com/v3/assets/blta7b34f1f894a2422/blt40e0ccc2fe76a4c7/5e2b46b671e37241baaabdf5/Gun_Runner_Loading_3x.png?auto=webp\"},\"displayName\":\"Gun Runner\",\"mapId\":\"Gun Runner\",\"mobileImage\":{\"src\":\"https://images.blz-contentstack.com/v3/assets/blta7b34f1f894a2422/blt3c250e9838d7d158/5e2b476171e37241baaabe01/Gun_Runner_Loading_M3x.png?auto=webp\"},\"tags\":[],\"title\":\"Gun Runner\",\"uid\":\"blt1e868210a7ba236c\",\"updatedAt\":\"2020-01-24T19:40:01.583Z\",\"updatedBy\":\"blt85aae568f2119ad8\",\"publishDetails\":{\"environment\":\"blt32369acdba41f6a8\",\"locale\":\"en-us\",\"time\":\"2020-01-24T19:40:11.005Z\",\"user\":\"blt85aae568f2119ad8\"}}},\"matchGameResult\":{\"hostGameScore\":173,\"guestGameScore\":158,\"winnerTeamId\":7,\"loserTeamId\":12}},{\"matchGame\":{\"id\":5313,\"matchId\":3638,\"number\":3,\"map\":\"St. Petrograd\",\"mode\":\"Hardpoint\",\"createdAt\":1587082020,\"updatedAt\":1595618494,\"gameMap\":{\"locale\":\"en-us\",\"ACL\":{},\"InProgress\":false,\"Version\":1,\"abbreviatedName\":\"St. Petrograd\",\"createdAt\":\"2020-01-24T19:42:19.272Z\",\"createdBy\":\"blt85aae568f2119ad8\",\"description\":\"\",\"desktopImage\":{\"src\":\"https://images.blz-contentstack.com/v3/assets/blta7b34f1f894a2422/blt534d5c7512738533/5e2b46b6a9cce63cb6048c10/St_Petrograd_Loading_3x.png?auto=webp\"},\"displayName\":\"St. Petrograd\",\"mapId\":\"St. Petrograd\",\"mobileImage\":{\"src\":\"https://images.blz-contentstack.com/v3/assets/blta7b34f1f894a2422/blt4dde4101f9b7b221/5e2b47477c805841bb5f81e1/St_Petrograd_Loading_M3x.png?auto=webp\"},\"tags\":[],\"title\":\"St. Petrograd\",\"uid\":\"blt6f608ee9125d5119\",\"updatedAt\":\"2020-01-24T19:42:19.272Z\",\"updatedBy\":\"blt85aae568f2119ad8\",\"publishDetails\":{\"environment\":\"blt32369acdba41f6a8\",\"locale\":\"en-us\",\"time\":\"2020-01-24T19:42:25.978Z\",\"user\":\"blt85aae568f2119ad8\"}}}},{\"matchGame\":{\"id\":5314,\"matchId\":3638,\"number\":4,\"map\":\"Rammaza\",\"mode\":\"Search and Destroy\",\"createdAt\":1587082020,\"updatedAt\":1595618522,\"gameMap\":{\"locale\":\"en-us\",\"ACL\":{},\"InProgress\":false,\"Version\":1,\"abbreviatedName\":\"Rammaza\",\"createdAt\":\"2020-01-24T19:41:36.777Z\",\"createdBy\":\"blt85aae568f2119ad8\",\"description\":\"\",\"desktopImage\":{\"src\":\"https://images.blz-contentstack.com/v3/assets/blta7b34f1f894a2422/blte900e2332f6357a4/5e2b46b6a9cce63cb6048c14/Rammaza_Loading_3x.png?auto=webp\"},\"displayName\":\"Rammaza\",\"mapId\":\"Rammaza\",\"mobileImage\":{\"src\":\"https://images.blz-contentstack.com/v3/assets/blta7b34f1f894a2422/blte1b61401542bf61d/5e2b47478935e93cd6a9fa6f/Rammaza_Loading_M3x.png?auto=webp\"},\"tags\":[],\"title\":\"Rammaza\",\"uid\":\"blt182c0faf91ae2381\",\"updatedAt\":\"2020-01-24T19:41:36.777Z\",\"updatedBy\":\"blt85aae568f2119ad8\",\"publishDetails\":{\"environment\":\"blt32369acdba41f6a8\",\"locale\":\"en-us\",\"time\":\"2020-01-24T19:41:44.094Z\",\"user\":\"blt85aae568f2119ad8\"}}}}]},\"ContentTypeUid\":\"block_cdl_match_detail\",\"Version\":21,\"locale\":\"en-us\",\"uid\":\"bltd79e337aca601012\",\"ACL\":{},\"InProgress\":false,\"createdAt\":\"2019-12-30T22:26:31.350Z\",\"createdBy\":\"blt4f7f7256a2373fb7\",\"disableSentinelIncentiveTracking\":true,\"meta\":{\"assets\":{\"defaultPlayerAvatar\":{\"src\":\"https://images.blz-contentstack.com/v3/assets/blta7b34f1f894a2422/bltba385d0631e29571/5de53306dc2ac60d1dd158bc/Default_Player_Headshot.png?auto=webp\"}},\"strings\":{\"completed\":\"FINAL\",\"inProgress\":\"IN PROGRESS\",\"scheduled\":\"SCHEDULED\",\"mapResults\":\"Map Results\",\"playerName\":\"Player Name\",\"roster\":\"ROSTER\",\"nextMatch\":\"NEXT MATCH\",\"prevMatch\":\"PREV MATCH\",\"map\":\"Map\",\"result\":\"Result\"}},\"tags\":[],\"title\":\"Match Detail\",\"updatedAt\":\"2020-07-27T00:42:10.465Z\",\"updatedBy\":\"blt42192c9dc0a8617f\",\"viewershipIncentiveLogin\":[],\"publishDetails\":{\"environment\":\"blt32369acdba41f6a8\",\"locale\":\"en-us\",\"time\":\"2020-07-27T00:42:18.527Z\",\"user\":\"blt42192c9dc0a8617f\"}}},{\"cdlSocialNetworks\":{\"locale\":\"en-us\",\"ACL\":{},\"ContentTypeUid\":\"block_cdl_social_networks\",\"InProgress\":false,\"Version\":29,\"buttons\":[{\"title\":\"SIGN UP FOR UPDATES\",\"type\":\"Internal\",\"url\":\"/stay-connected\"}],\"createdAt\":\"2019-08-07T09:02:08.838Z\",\"createdBy\":\"blt4f7f7256a2373fb7\",\"headline\":\"STAY CONNECTED\",\"socialNetworks\":[{\"title\":\"Twitter\",\"url\":\"https://twitter.com/CODLeague\",\"grayLogo\":{\"src\":\"https://images.blz-contentstack.com/v3/assets/blta7b34f1f894a2422/bltb837f3368ba0547c/5d4a9274628ad003b5d886e7/Twitter_-_WHT.svg?auto=webp\"},\"colorLogo\":{\"src\":\"https://images.blz-contentstack.com/v3/assets/blta7b34f1f894a2422/bltbd35d8e026d47c43/5d4a9270bf384b03afd015f4/Twitter.svg?auto=webp\"}},{\"title\":\"Instagram\",\"url\":\"https://www.instagram.com/codleague\",\"grayLogo\":{\"src\":\"https://images.blz-contentstack.com/v3/assets/blta7b34f1f894a2422/bltc55e4f1828d81eda/5d4a92d646f41d032048d0b5/Instagram_-_WHT.svg?auto=webp\"},\"colorLogo\":{\"src\":\"https://images.blz-contentstack.com/v3/assets/blta7b34f1f894a2422/bltb5721279b99314fa/5d4a92d20927f67fc05470f7/instagram.svg?auto=webp\"}},{\"title\":\"Youtube\",\"url\":\"https://blizz.ly/2xj8ugy\",\"grayLogo\":{\"src\":\"https://images.blz-contentstack.com/v3/assets/blta7b34f1f894a2422/blt36bc798e0ff820f8/5d4a931775a5f07f3806d5b2/youtube_-_WHT.svg?auto=webp\"},\"colorLogo\":{\"src\":\"https://images.blz-contentstack.com/v3/assets/blta7b34f1f894a2422/blte0b57540fe5f90f8/5d4a9312bf384b03afd015fa/youtube.svg?auto=webp\"}},{\"title\":\"Facebook\",\"url\":\"https://www.facebook.com/codleague\",\"grayLogo\":{\"src\":\"https://images.blz-contentstack.com/v3/assets/blta7b34f1f894a2422/blt4cc81ce2eda05df6/5d4a9232bf384b03afd015ee/Facebook_-_WHT.svg?auto=webp\"},\"colorLogo\":{\"src\":\"https://images.blz-contentstack.com/v3/assets/blta7b34f1f894a2422/blt592ba2b719d9f46d/5d4a9239fbf0e17fc6dafdc1/facebook.svg?auto=webp\"}},{\"title\":\"Snapchat\",\"url\":\"https://www.snapchat.com/add/codleague\",\"grayLogo\":{\"src\":\"https://images.blz-contentstack.com/v3/assets/blta7b34f1f894a2422/blt1b1a412d211962d8/5d8e3366f26c474da19a6345/Snapchat@3x_WHT.png?auto=webp\"},\"colorLogo\":{\"src\":\"https://images.blz-contentstack.com/v3/assets/blta7b34f1f894a2422/bltc9af1cf89c74f926/5d8e37ed341220046675884f/Snapchat_GRY@3x.png?auto=webp\",\"alt\":\"\"}}],\"tags\":[],\"title\":\"STAY CONNECTED\",\"titleAlignment\":\"Left\",\"uid\":\"blt43314ec3b8f4d609\",\"updatedAt\":\"2020-04-13T19:44:21.096Z\",\"updatedBy\":\"blt85aae568f2119ad8\",\"publishDetails\":{\"environment\":\"blt32369acdba41f6a8\",\"locale\":\"en-us\",\"time\":\"2020-04-13T19:45:00.295Z\",\"user\":\"blt85aae568f2119ad8\"}}},{\"cdlFooterInfo\":{\"locale\":\"en-us\",\"ACL\":{},\"InProgress\":false,\"Version\":44,\"createdAt\":\"2019-08-07T09:34:29.849Z\",\"createdBy\":\"blt4f7f7256a2373fb7\",\"description\":\"\\\\u003cp\\\\u003e\\xc2\\xa9 2019 Activision Publishing, Inc.  CALL OF DUTY, MODERN WARFARE, and CALL OF DUTY LEAGUE are trademarks of Activision Publishing, Inc.  The Call of Duty League team names, logos and other team trademarks are the properties of their respective owners. All other trademarks and trade names are the properties of their respective owners.\\\\u003c/p\\\\u003e\\\\n\\\\u003cp\\\\u003eWe\\'ve updated our Privacy Policy. You can view the revised policy \\\\u003ca href=\\\\\"https://www.callofdutyleague.com/en-us/privacy\\\\\" style=\\\\\"text-decoration: none;\\\\\"\\\\u003ehere.\\\\u003c/a\\\\u003e \\\\u003cbr/\\\\u003e By continuing to use Call of Duty League\\'s websites, products or services, you acknowledge this revised Privacy Policy.\\\\u003c/p\\\\u003e\",\"links\":[{\"title\":\"PRIVACY POLICY\",\"type\":\"Internal\",\"url\":\"/privacy\"},{\"title\":\"TERMS OF USE\",\"type\":\"Internal\",\"url\":\"/terms-of-use\"},{\"title\":\"COOKIE POLICY\",\"type\":\"Internal\",\"url\":\"/cookie-policy\"},{\"title\":\"CONTACT US\",\"type\":\"Internal\",\"url\":\"/contact-us\"}],\"tags\":[],\"title\":\"Footer\",\"topLogos\":[{\"src\":\"https://images.blz-contentstack.com/v3/assets/blta7b34f1f894a2422/bltdd36cb2bc256bd77/5d4a9b0afbf0e17fc6dafdd5/activision-logo.svg?auto=webp\"},{\"src\":\"https://images.blz-contentstack.com/v3/assets/blta7b34f1f894a2422/blt10f0d59f97d93946/5d8940702f5989598fc7de16/CDL_Logo.svg?auto=webp\",\"alt\":\"\"}],\"uid\":\"blt507c90d72aabd434\",\"updatedAt\":\"2020-02-10T17:41:49.052Z\",\"updatedBy\":\"blt85aae568f2119ad8\",\"publishDetails\":{\"environment\":\"blt32369acdba41f6a8\",\"locale\":\"en-us\",\"time\":\"2020-04-06T17:59:52.745Z\",\"user\":\"blt85aae568f2119ad8\"},\"ContentTypeUid\":\"block_cdl_footer_info\"}}],\"title\":\"Match Detail\",\"descriptionBlurb\":\"\",\"statusCode\":200,\"openGraphTags\":{},\"renderBlockContext\":{\"queryParams\":{},\"csPath\":\"/match/___id___\",\"path\":\"/en-us/match/3638\",\"locale\":\"en-us\",\"stackConfig\":{\"Version\":8,\"locale\":\"en-us\",\"uid\":\"blt21329050399a1abd\",\"ACL\":{},\"InProgress\":false,\"appName\":\"Call of Duty League\",\"configColors\":{\"locale\":\"en-us\",\"title\":\"App Colors\",\"dominantColor\":\"#246dff\",\"accentColor\":\"#246dff\",\"secondaryAccentColor\":\"#246dff\",\"headerBackground\":\"#000000\",\"headerText\":\"#ffffff\",\"playhead\":\"#ffffff\",\"alternateCtaTextColor\":\"#ffffff\",\"tags\":[],\"uid\":\"blt118f00eaa60318f1\",\"createdBy\":\"blt4f7f7256a2373fb7\",\"updatedBy\":\"blt85aae568f2119ad8\",\"createdAt\":\"2019-09-11T04:21:07.365Z\",\"updatedAt\":\"2019-10-25T02:01:45.248Z\",\"ContentTypeUid\":\"config_colors\",\"ACL\":{},\"Version\":13,\"publishDetails\":{\"environment\":\"blt32369acdba41f6a8\",\"locale\":\"en-us\",\"time\":\"2019-10-25T02:01:50.840Z\",\"user\":\"blt85aae568f2119ad8\"}},\"createdAt\":\"2019-09-11T04:22:53.596Z\",\"createdBy\":\"blt4f7f7256a2373fb7\",\"favicon\":{\"faviconRegular\":{\"src\":\"https://images.blz-contentstack.com/v3/assets/blta7b34f1f894a2422/bltf3cdb76182c1a1d7/5d79c2bccfdefb1cd5f97376/favicon-32x32.png?auto=webp\"},\"faviconAppleTouch\":{\"src\":\"https://images.blz-contentstack.com/v3/assets/blta7b34f1f894a2422/bltb6fa61228ce745cd/5d79c2c9cfdefb1cd5f9737c/apple-touch-icon.png?auto=webp\"}},\"meta\":{\"ContentTypeUid\":\"config_meta_data\",\"Version\":21,\"locale\":\"en-us\",\"uid\":\"blt95895c1e0053d2ba\",\"ACL\":{},\"InProgress\":false,\"assets\":{\"undefinedTeamLogo\":{\"src\":\"https://images.blz-contentstack.com/v3/assets/blta7b34f1f894a2422/blt49cfe77275da67df/5e1f72beb8a6493cb7bd40ac/call_of_duty_positive_logo.svg?auto=webp\"}},\"createdAt\":\"2019-09-11T04:22:21.647Z\",\"createdBy\":\"blt4f7f7256a2373fb7\",\"strings\":{\"tbd\":\"TBD\",\"sponsoredBy\":\"Presented By\",\"blockMessageErrorTitle\":\"Kaboom\",\"blockMessageErrorDetail\":\"Something happened with the layout of this page. We\\'ll get right on it. Go back to get the latest on League action\",\"timeTba\":\"Time TBA\",\"watch\":\"Watch\",\"dateTba\":\"Date TBA\",\"live\":\"Live\",\"tickets\":\"Tickets\",\"allTeams\":\"All Teams\",\"season\":\"Season\",\"matchDetails\":\"Match Details\",\"upNext\":\"UP NEXT\",\"final\":\"Final\",\"playing\":\"PLAYING\",\"liveNow\":\"Live Now\",\"nowPlaying\":\"Now Playing\",\"videos\":\"Videos\",\"ageGatingErrorMessage\":\"Sorry, you do not meet the minimum requirements.\",\"dateOfBirth\":\"Date of Birth\",\"enterYourDateOfBirth\":\"Enter your date of birth\",\"submit\":\"Submit\",\"mins\":\"Mins\",\"nextReward\":\"Total Progress\",\"totalWatched\":\"Next Reward\",\"ticketsNotAvailable\":\"\"},\"tags\":[],\"title\":\"Blocks Meta Data\",\"updatedAt\":\"2020-09-21T21:19:13.906Z\",\"updatedBy\":\"blt85aae568f2119ad8\",\"publishDetails\":{\"environment\":\"blt32369acdba41f6a8\",\"locale\":\"en-us\",\"time\":\"2020-09-21T21:22:59.928Z\",\"user\":\"blt85aae568f2119ad8\"}},\"sentinelBroadcasterId\":\"cdl\",\"title\":\"Config Area\",\"updatedAt\":\"2020-05-19T20:46:08.496Z\",\"updatedBy\":\"blt4f7f7256a2373fb7\",\"publishDetails\":{\"environment\":\"blt32369acdba41f6a8\",\"locale\":\"en-us\",\"time\":\"2020-05-19T22:57:48.188Z\",\"user\":\"blt4f7f7256a2373fb7\"},\"ContentTypeUid\":\"config_area\"},\"isContenders\":false},\"theme\":{\"locale\":\"en-us\",\"title\":\"App Colors\",\"dominantColor\":\"#246dff\",\"accentColor\":\"#246dff\",\"secondaryAccentColor\":\"#246dff\",\"headerBackground\":\"#000000\",\"headerText\":\"#ffffff\",\"playhead\":\"#ffffff\",\"alternateCtaTextColor\":\"#ffffff\",\"tags\":[],\"uid\":\"blt118f00eaa60318f1\",\"createdBy\":\"blt4f7f7256a2373fb7\",\"updatedBy\":\"blt85aae568f2119ad8\",\"createdAt\":\"2019-09-11T04:21:07.365Z\",\"updatedAt\":\"2019-10-25T02:01:45.248Z\",\"ContentTypeUid\":\"config_colors\",\"ACL\":{},\"Version\":13,\"publishDetails\":{\"environment\":\"blt32369acdba41f6a8\",\"locale\":\"en-us\",\"time\":\"2019-10-25T02:01:50.840Z\",\"user\":\"blt85aae568f2119ad8\"}}}},\"page\":\"/\",\"query\":{},\"buildId\":\"6Zjwb09_YDEr3erQiK4t5\",\"isFallback\":false,\"customServer\":true,\"gip\":true}</script><script nomodule=\"\" src=\"/_next/static/runtime/polyfills-859eea4a3e50f8b8768a.js\"></script><script async=\"\" data-next-page=\"/_app\" src=\"/_next/static/6Zjwb09_YDEr3erQiK4t5/pages/_app.js\"></script><script async=\"\" data-next-page=\"/\" src=\"/_next/static/6Zjwb09_YDEr3erQiK4t5/pages/index.js\"></script><script src=\"/_next/static/runtime/webpack-e2a9af5f7c1ed89532f8.js\" async=\"\"></script><script src=\"/_next/static/chunks/framework.d5e378f749478f7a30ce.js\" async=\"\"></script><script src=\"/_next/static/chunks/commons.0d048e42840bfe260c93.js\" async=\"\"></script><script src=\"/_next/static/runtime/main-c0babdf89834e560dadc.js\" async=\"\"></script><script src=\"/_next/static/chunks/ae543ae850ba9069242c7921ea03017a5afaf682.5a2d190da23173797144.js\" async=\"\"></script><script src=\"/_next/static/6Zjwb09_YDEr3erQiK4t5/_buildManifest.js\" async=\"\"></script><script src=\"/_next/static/6Zjwb09_YDEr3erQiK4t5/_ssgManifest.js\" async=\"\"></script></body></html>'"
      ]
     },
     "execution_count": 12,
     "metadata": {},
     "output_type": "execute_result"
    }
   ],
   "source": [
    "cod_site_content"
   ]
  },
  {
   "cell_type": "markdown",
   "metadata": {},
   "source": [
    "'game-cardstyles__Score-sc-1dob3v8-16 jxIGFr'"
   ]
  },
  {
   "cell_type": "code",
   "execution_count": 33,
   "metadata": {},
   "outputs": [],
   "source": [
    "soup = BeautifulSoup(cod_site_content)"
   ]
  },
  {
   "cell_type": "code",
   "execution_count": 39,
   "metadata": {},
   "outputs": [],
   "source": [
    "string_soup = str(soup)"
   ]
  },
  {
   "cell_type": "code",
   "execution_count": 46,
   "metadata": {},
   "outputs": [],
   "source": [
    "string_soup_list = string_soup.split('type=\"application/json\">') "
   ]
  },
  {
   "cell_type": "code",
   "execution_count": 51,
   "metadata": {},
   "outputs": [],
   "source": [
    "string_soup_list_1 = string_soup_list[1].split('</script>')"
   ]
  },
  {
   "cell_type": "code",
   "execution_count": 52,
   "metadata": {},
   "outputs": [
    {
     "data": {
      "text/plain": [
       "'{\"props\":{\"pageProps\":{\"blocks\":[{\"cdlTopNavigationBar\":{\"config\":{\"disableBottomMargin\":true},\"Version\":120,\"locale\":\"en-us\",\"uid\":\"bltb0376bad0bbc34b0\",\"ACL\":{},\"InProgress\":false,\"createdAt\":\"2019-09-24T04:06:02.893Z\",\"createdBy\":\"blt4f7f7256a2373fb7\",\"drawerLogo\":{\"src\":\"https://images.blz-contentstack.com/v3/assets/blta7b34f1f894a2422/blta281cef326a765a6/5d8bd6077faf135d5befd32b/mobile_logo.svg?auto=webp\"},\"logo\":{\"src\":\"https://images.blz-contentstack.com/v3/assets/blta7b34f1f894a2422/blt10f0d59f97d93946/5d8940702f5989598fc7de16/CDL_Logo.svg?auto=webp\",\"alt\":\"\"},\"menu\":[{\"title\":\"League\",\"url\":\"\",\"type\":\"container\",\"subMenu\":[{\"title\":\"About\",\"url\":\"/en-us/about?utm_source=cdlweb\\\\u0026utm_medium=navigationbar\\\\u0026utm_campaign=general\",\"type\":\"internal\"},{\"title\":\"Challengers\",\"url\":\"/en-us/challengers?utm_source=cdlweb\\\\u0026utm_medium=navigationbar\\\\u0026utm_campaign=general\",\"type\":\"internal\"},{\"title\":\"City Circuit\",\"url\":\"/en-us/city-circuit?utm_source=cdlweb\\\\u0026utm_medium=navigationbar\\\\u0026utm_campaign=general\",\"type\":\"internal\"},{\"title\":\"Competitive Settings\",\"url\":\"/en-us/competitive-settings?utm_source=cdlweb\\\\u0026utm_medium=navigationbar\\\\u0026utm_campaign=general\",\"type\":\"internal\"},{\"title\":\"Impact\",\"url\":\"/en-us/impact?utm_source=cdlweb\\\\u0026utm_medium=navigationbar\\\\u0026utm_campaign=general\",\"type\":\"internal\"},{\"title\":\"Player Tracker\",\"url\":\"/en-us/player-tracker?utm_source=cdlweb\\\\u0026utm_medium=navigationbar\\\\u0026utm_campaign=general\",\"type\":\"internal\"},{\"title\":\"Team Packs\",\"url\":\"/en-us/teampacks?utm_source=web\\\\u0026utm_medium=nav\\\\u0026utm_campaign=packs\",\"type\":\"internal\"},{\"title\":\"Sign Up\",\"url\":\"/en-us/stay-connected?utm_source=cdlweb\\\\u0026utm_medium=navigationbar\\\\u0026utm_campaign=general\",\"type\":\"internal\"}]},{\"title\":\"Teams\",\"url\":\"/en-us/teams?utm_source=cdlweb\\\\u0026utm_medium=navigationbar\\\\u0026utm_campaign=general\",\"type\":\"internal\",\"subMenu\":[]},{\"title\":\"Bracket Builder\",\"url\":\"/en-us/all-star-weekend?utm_source=cdlweb\\\\u0026utm_medium=navigationbar\\\\u0026utm_campaign=general\",\"type\":\"internal\",\"subMenu\":[]},{\"title\":\"Schedule\",\"url\":\"/en-us/schedule?utm_source=cdlweb\\\\u0026utm_medium=navigationbar\\\\u0026utm_campaign=general\",\"type\":\"internal\",\"subMenu\":[]},{\"title\":\"Standings\",\"url\":\"/en-us/standings?utm_source=cdlweb\\\\u0026utm_medium=navigationbar\\\\u0026utm_campaign=general\",\"type\":\"internal\",\"subMenu\":[]},{\"title\":\"News\",\"url\":\"/en-us/news?utm_source=cdlweb\\\\u0026utm_medium=navigationbar\\\\u0026utm_campaign=general\",\"type\":\"internal\",\"subMenu\":[]},{\"title\":\"Videos\",\"url\":\"/en-us/videos?utm_source=cdlweb\\\\u0026utm_medium=navigationbar\\\\u0026utm_campaign=general\",\"type\":\"internal\",\"subMenu\":[]},{\"title\":\"More\",\"url\":\"\",\"type\":\"container\",\"subMenu\":[{\"title\":\"Astro MVP\",\"url\":\"/en-us/astro-mvp?utm_source=cdlweb\\\\u0026utm_medium=navigationbar\\\\u0026utm_campaign=general\",\"type\":\"internal\"},{\"title\":\"CDL Champs Pack\",\"url\":\"/en-us/cdl-champs-pack?utm_source=cdlweb\\\\u0026utm_medium=navigationbar\\\\u0026utm_campaign=general\",\"type\":\"internal\"},{\"title\":\"CDL Team Support Pack\",\"url\":\"/en-us/cdl-team-support-pack?utm_source=cdlweb\\\\u0026utm_medium=navigationbar\\\\u0026utm_campaign=general\",\"type\":\"internal\"},{\"title\":\"Collegiate\",\"url\":\"/en-us/collegiate?utm_source=cdlweb\\\\u0026utm_medium=navigationbar\\\\u0026utm_campaign=general\",\"type\":\"internal\"},{\"title\":\"Fan Choice Awards\",\"url\":\"/en-us/fan-choice-awards?utm_source=cdlweb\\\\u0026utm_medium=navigationbar\\\\u0026utm_campaign=general\",\"type\":\"internal\"}]},{\"title\":\"Shop\",\"url\":\"https://blizz.ly/2Pcn6Ur\",\"type\":\"external\",\"subMenu\":[]}],\"mobileLogo\":{\"src\":\"https://images.blz-contentstack.com/v3/assets/blta7b34f1f894a2422/blt8b2f9738065092ed/5d9f61e5c9173c04f2e4aa3d/logo-cdl-logo-horizontal-wht@2x.png?auto=webp\"},\"socialNetworks\":[],\"tags\":[],\"title\":\"Header Home V2\",\"updatedAt\":\"2020-09-10T00:36:23.505Z\",\"updatedBy\":\"blt42192c9dc0a8617f\",\"urlLogo\":\"/\",\"publishDetails\":{\"environment\":\"blt32369acdba41f6a8\",\"locale\":\"en-us\",\"time\":\"2020-09-10T00:37:46.023Z\",\"user\":\"blt42192c9dc0a8617f\"},\"ContentTypeUid\":\"block_cdl_top_navigation_bar\",\"languages\":[{\"displayCode\":\"FR\",\"countryCode\":\"FR\",\"name\":\"French\",\"code\":\"fr-fr\"},{\"displayCode\":\"ES\",\"countryCode\":\"ES\",\"name\":\"Spanish\",\"code\":\"es-es\"},{\"displayCode\":\"EN\",\"countryCode\":\"US\",\"name\":\"English\",\"code\":\"en-us\"}]}},{\"cdlMatchDetail\":{\"matchData\":{\"matchExtended\":{\"homeTeamCard\":{\"id\":7,\"name\":\"Atlanta FaZe\",\"abbreviation\":\"ATL\",\"lightLogoUrl\":\"https://images.blz-contentstack.com/v3/assets/blta7b34f1f894a2422/blt6ec730c1178cc1cd/5dd596f49147457fdde604ba/ATL-FAZ_Primary-Logo.png\",\"darkLogoUrl\":\"https://images.blz-contentstack.com/v3/assets/blta7b34f1f894a2422/blte85ebc345d4dcc98/5dc48a1813b457491b4beba3/ATL-FAZ_Alternate-Logo-2@3x.png\",\"color\":\"#e43d30\"},\"awayTeamCard\":{\"id\":12,\"name\":\"Minnesota Røkkr\",\"abbreviation\":\"MIN\",\"lightLogoUrl\":\"https://images.blz-contentstack.com/v3/assets/blta7b34f1f894a2422/bltd7928f59c7886699/5dd596f413b457491b4bf113/MIN-ROK_Primary-Logo.png\",\"darkLogoUrl\":\"https://images.blz-contentstack.com/v3/assets/blta7b34f1f894a2422/bltd7928f59c7886699/5dd596f413b457491b4bf113/MIN-ROK_Primary-Logo.png\",\"color\":\"#351f65\"},\"competition\":{\"id\":181,\"competitionType\":\"DOUBLE_ELIM_BRACKET\",\"sequence\":2},\"match\":{\"id\":3638,\"playTime\":1595620800,\"status\":\"COMPLETED\",\"vodLink\":\"https://www.youtube.com/watch?v=jOHoHU7vBws\",\"stageHomeTeamId\":1856,\"createdAt\":1587081860,\"updatedAt\":1595631747,\"displayStatus\":\"FINAL\"},\"result\":{\"homeTeamGamesWon\":3,\"awayTeamGamesWon\":0,\"winnerTeamId\":7,\"loserTeamId\":12},\"broadcastLinks\":[{\"url\":\"https://www.youtube.com/watch?v=JoCGwLsLIVk\",\"isDefault\":true,\"broadcastPartnerId\":7,\"broadcastPartnerName\":\"Youtube\",\"broadcastPartnerLogo\":\"https://images.blz-contentstack.com/v3/assets/blta7b34f1f894a2422/blt48500031e3945e03/5de85ffb8691147ecf07cb9d/YouTube.png\"}]},\"matchGamesExtended\":[{\"matchGame\":{\"id\":5310,\"matchId\":3638,\"number\":0,\"map\":\"Rammaza\",\"mode\":\"Hardpoint\",\"createdAt\":1587082020,\"updatedAt\":1595622218,\"gameMap\":{\"locale\":\"en-us\",\"ACL\":{},\"InProgress\":false,\"Version\":1,\"abbreviatedName\":\"Rammaza\",\"createdAt\":\"2020-01-24T19:41:36.777Z\",\"createdBy\":\"blt85aae568f2119ad8\",\"description\":\"\",\"desktopImage\":{\"src\":\"https://images.blz-contentstack.com/v3/assets/blta7b34f1f894a2422/blte900e2332f6357a4/5e2b46b6a9cce63cb6048c14/Rammaza_Loading_3x.png?auto=webp\"},\"displayName\":\"Rammaza\",\"mapId\":\"Rammaza\",\"mobileImage\":{\"src\":\"https://images.blz-contentstack.com/v3/assets/blta7b34f1f894a2422/blte1b61401542bf61d/5e2b47478935e93cd6a9fa6f/Rammaza_Loading_M3x.png?auto=webp\"},\"tags\":[],\"title\":\"Rammaza\",\"uid\":\"blt182c0faf91ae2381\",\"updatedAt\":\"2020-01-24T19:41:36.777Z\",\"updatedBy\":\"blt85aae568f2119ad8\",\"publishDetails\":{\"environment\":\"blt32369acdba41f6a8\",\"locale\":\"en-us\",\"time\":\"2020-01-24T19:41:44.094Z\",\"user\":\"blt85aae568f2119ad8\"}}},\"matchGameResult\":{\"hostGameScore\":250,\"guestGameScore\":237,\"winnerTeamId\":7,\"loserTeamId\":12}},{\"matchGame\":{\"id\":5311,\"matchId\":3638,\"number\":1,\"map\":\"Gun Runner\",\"mode\":\"Search and Destroy\",\"createdAt\":1587082020,\"updatedAt\":1595623136,\"gameMap\":{\"locale\":\"en-us\",\"ACL\":{},\"InProgress\":false,\"Version\":1,\"abbreviatedName\":\"Gun Runner\",\"createdAt\":\"2020-01-24T19:40:01.583Z\",\"createdBy\":\"blt85aae568f2119ad8\",\"description\":\"\",\"desktopImage\":{\"src\":\"https://images.blz-contentstack.com/v3/assets/blta7b34f1f894a2422/blt40e0ccc2fe76a4c7/5e2b46b671e37241baaabdf5/Gun_Runner_Loading_3x.png?auto=webp\"},\"displayName\":\"Gun Runner\",\"mapId\":\"Gun Runner\",\"mobileImage\":{\"src\":\"https://images.blz-contentstack.com/v3/assets/blta7b34f1f894a2422/blt3c250e9838d7d158/5e2b476171e37241baaabe01/Gun_Runner_Loading_M3x.png?auto=webp\"},\"tags\":[],\"title\":\"Gun Runner\",\"uid\":\"blt1e868210a7ba236c\",\"updatedAt\":\"2020-01-24T19:40:01.583Z\",\"updatedBy\":\"blt85aae568f2119ad8\",\"publishDetails\":{\"environment\":\"blt32369acdba41f6a8\",\"locale\":\"en-us\",\"time\":\"2020-01-24T19:40:11.005Z\",\"user\":\"blt85aae568f2119ad8\"}}},\"matchGameResult\":{\"hostGameScore\":6,\"guestGameScore\":1,\"winnerTeamId\":7,\"loserTeamId\":12}},{\"matchGame\":{\"id\":5312,\"matchId\":3638,\"number\":2,\"map\":\"Gun Runner\",\"mode\":\"Domination\",\"createdAt\":1587082020,\"updatedAt\":1595624430,\"gameMap\":{\"locale\":\"en-us\",\"ACL\":{},\"InProgress\":false,\"Version\":1,\"abbreviatedName\":\"Gun Runner\",\"createdAt\":\"2020-01-24T19:40:01.583Z\",\"createdBy\":\"blt85aae568f2119ad8\",\"description\":\"\",\"desktopImage\":{\"src\":\"https://images.blz-contentstack.com/v3/assets/blta7b34f1f894a2422/blt40e0ccc2fe76a4c7/5e2b46b671e37241baaabdf5/Gun_Runner_Loading_3x.png?auto=webp\"},\"displayName\":\"Gun Runner\",\"mapId\":\"Gun Runner\",\"mobileImage\":{\"src\":\"https://images.blz-contentstack.com/v3/assets/blta7b34f1f894a2422/blt3c250e9838d7d158/5e2b476171e37241baaabe01/Gun_Runner_Loading_M3x.png?auto=webp\"},\"tags\":[],\"title\":\"Gun Runner\",\"uid\":\"blt1e868210a7ba236c\",\"updatedAt\":\"2020-01-24T19:40:01.583Z\",\"updatedBy\":\"blt85aae568f2119ad8\",\"publishDetails\":{\"environment\":\"blt32369acdba41f6a8\",\"locale\":\"en-us\",\"time\":\"2020-01-24T19:40:11.005Z\",\"user\":\"blt85aae568f2119ad8\"}}},\"matchGameResult\":{\"hostGameScore\":173,\"guestGameScore\":158,\"winnerTeamId\":7,\"loserTeamId\":12}},{\"matchGame\":{\"id\":5313,\"matchId\":3638,\"number\":3,\"map\":\"St. Petrograd\",\"mode\":\"Hardpoint\",\"createdAt\":1587082020,\"updatedAt\":1595618494,\"gameMap\":{\"locale\":\"en-us\",\"ACL\":{},\"InProgress\":false,\"Version\":1,\"abbreviatedName\":\"St. Petrograd\",\"createdAt\":\"2020-01-24T19:42:19.272Z\",\"createdBy\":\"blt85aae568f2119ad8\",\"description\":\"\",\"desktopImage\":{\"src\":\"https://images.blz-contentstack.com/v3/assets/blta7b34f1f894a2422/blt534d5c7512738533/5e2b46b6a9cce63cb6048c10/St_Petrograd_Loading_3x.png?auto=webp\"},\"displayName\":\"St. Petrograd\",\"mapId\":\"St. Petrograd\",\"mobileImage\":{\"src\":\"https://images.blz-contentstack.com/v3/assets/blta7b34f1f894a2422/blt4dde4101f9b7b221/5e2b47477c805841bb5f81e1/St_Petrograd_Loading_M3x.png?auto=webp\"},\"tags\":[],\"title\":\"St. Petrograd\",\"uid\":\"blt6f608ee9125d5119\",\"updatedAt\":\"2020-01-24T19:42:19.272Z\",\"updatedBy\":\"blt85aae568f2119ad8\",\"publishDetails\":{\"environment\":\"blt32369acdba41f6a8\",\"locale\":\"en-us\",\"time\":\"2020-01-24T19:42:25.978Z\",\"user\":\"blt85aae568f2119ad8\"}}}},{\"matchGame\":{\"id\":5314,\"matchId\":3638,\"number\":4,\"map\":\"Rammaza\",\"mode\":\"Search and Destroy\",\"createdAt\":1587082020,\"updatedAt\":1595618522,\"gameMap\":{\"locale\":\"en-us\",\"ACL\":{},\"InProgress\":false,\"Version\":1,\"abbreviatedName\":\"Rammaza\",\"createdAt\":\"2020-01-24T19:41:36.777Z\",\"createdBy\":\"blt85aae568f2119ad8\",\"description\":\"\",\"desktopImage\":{\"src\":\"https://images.blz-contentstack.com/v3/assets/blta7b34f1f894a2422/blte900e2332f6357a4/5e2b46b6a9cce63cb6048c14/Rammaza_Loading_3x.png?auto=webp\"},\"displayName\":\"Rammaza\",\"mapId\":\"Rammaza\",\"mobileImage\":{\"src\":\"https://images.blz-contentstack.com/v3/assets/blta7b34f1f894a2422/blte1b61401542bf61d/5e2b47478935e93cd6a9fa6f/Rammaza_Loading_M3x.png?auto=webp\"},\"tags\":[],\"title\":\"Rammaza\",\"uid\":\"blt182c0faf91ae2381\",\"updatedAt\":\"2020-01-24T19:41:36.777Z\",\"updatedBy\":\"blt85aae568f2119ad8\",\"publishDetails\":{\"environment\":\"blt32369acdba41f6a8\",\"locale\":\"en-us\",\"time\":\"2020-01-24T19:41:44.094Z\",\"user\":\"blt85aae568f2119ad8\"}}}}]},\"ContentTypeUid\":\"block_cdl_match_detail\",\"Version\":21,\"locale\":\"en-us\",\"uid\":\"bltd79e337aca601012\",\"ACL\":{},\"InProgress\":false,\"createdAt\":\"2019-12-30T22:26:31.350Z\",\"createdBy\":\"blt4f7f7256a2373fb7\",\"disableSentinelIncentiveTracking\":true,\"meta\":{\"assets\":{\"defaultPlayerAvatar\":{\"src\":\"https://images.blz-contentstack.com/v3/assets/blta7b34f1f894a2422/bltba385d0631e29571/5de53306dc2ac60d1dd158bc/Default_Player_Headshot.png?auto=webp\"}},\"strings\":{\"completed\":\"FINAL\",\"inProgress\":\"IN PROGRESS\",\"scheduled\":\"SCHEDULED\",\"mapResults\":\"Map Results\",\"playerName\":\"Player Name\",\"roster\":\"ROSTER\",\"nextMatch\":\"NEXT MATCH\",\"prevMatch\":\"PREV MATCH\",\"map\":\"Map\",\"result\":\"Result\"}},\"tags\":[],\"title\":\"Match Detail\",\"updatedAt\":\"2020-07-27T00:42:10.465Z\",\"updatedBy\":\"blt42192c9dc0a8617f\",\"viewershipIncentiveLogin\":[],\"publishDetails\":{\"environment\":\"blt32369acdba41f6a8\",\"locale\":\"en-us\",\"time\":\"2020-07-27T00:42:18.527Z\",\"user\":\"blt42192c9dc0a8617f\"}}},{\"cdlSocialNetworks\":{\"locale\":\"en-us\",\"ACL\":{},\"ContentTypeUid\":\"block_cdl_social_networks\",\"InProgress\":false,\"Version\":29,\"buttons\":[{\"title\":\"SIGN UP FOR UPDATES\",\"type\":\"Internal\",\"url\":\"/stay-connected\"}],\"createdAt\":\"2019-08-07T09:02:08.838Z\",\"createdBy\":\"blt4f7f7256a2373fb7\",\"headline\":\"STAY CONNECTED\",\"socialNetworks\":[{\"title\":\"Twitter\",\"url\":\"https://twitter.com/CODLeague\",\"grayLogo\":{\"src\":\"https://images.blz-contentstack.com/v3/assets/blta7b34f1f894a2422/bltb837f3368ba0547c/5d4a9274628ad003b5d886e7/Twitter_-_WHT.svg?auto=webp\"},\"colorLogo\":{\"src\":\"https://images.blz-contentstack.com/v3/assets/blta7b34f1f894a2422/bltbd35d8e026d47c43/5d4a9270bf384b03afd015f4/Twitter.svg?auto=webp\"}},{\"title\":\"Instagram\",\"url\":\"https://www.instagram.com/codleague\",\"grayLogo\":{\"src\":\"https://images.blz-contentstack.com/v3/assets/blta7b34f1f894a2422/bltc55e4f1828d81eda/5d4a92d646f41d032048d0b5/Instagram_-_WHT.svg?auto=webp\"},\"colorLogo\":{\"src\":\"https://images.blz-contentstack.com/v3/assets/blta7b34f1f894a2422/bltb5721279b99314fa/5d4a92d20927f67fc05470f7/instagram.svg?auto=webp\"}},{\"title\":\"Youtube\",\"url\":\"https://blizz.ly/2xj8ugy\",\"grayLogo\":{\"src\":\"https://images.blz-contentstack.com/v3/assets/blta7b34f1f894a2422/blt36bc798e0ff820f8/5d4a931775a5f07f3806d5b2/youtube_-_WHT.svg?auto=webp\"},\"colorLogo\":{\"src\":\"https://images.blz-contentstack.com/v3/assets/blta7b34f1f894a2422/blte0b57540fe5f90f8/5d4a9312bf384b03afd015fa/youtube.svg?auto=webp\"}},{\"title\":\"Facebook\",\"url\":\"https://www.facebook.com/codleague\",\"grayLogo\":{\"src\":\"https://images.blz-contentstack.com/v3/assets/blta7b34f1f894a2422/blt4cc81ce2eda05df6/5d4a9232bf384b03afd015ee/Facebook_-_WHT.svg?auto=webp\"},\"colorLogo\":{\"src\":\"https://images.blz-contentstack.com/v3/assets/blta7b34f1f894a2422/blt592ba2b719d9f46d/5d4a9239fbf0e17fc6dafdc1/facebook.svg?auto=webp\"}},{\"title\":\"Snapchat\",\"url\":\"https://www.snapchat.com/add/codleague\",\"grayLogo\":{\"src\":\"https://images.blz-contentstack.com/v3/assets/blta7b34f1f894a2422/blt1b1a412d211962d8/5d8e3366f26c474da19a6345/Snapchat@3x_WHT.png?auto=webp\"},\"colorLogo\":{\"src\":\"https://images.blz-contentstack.com/v3/assets/blta7b34f1f894a2422/bltc9af1cf89c74f926/5d8e37ed341220046675884f/Snapchat_GRY@3x.png?auto=webp\",\"alt\":\"\"}}],\"tags\":[],\"title\":\"STAY CONNECTED\",\"titleAlignment\":\"Left\",\"uid\":\"blt43314ec3b8f4d609\",\"updatedAt\":\"2020-04-13T19:44:21.096Z\",\"updatedBy\":\"blt85aae568f2119ad8\",\"publishDetails\":{\"environment\":\"blt32369acdba41f6a8\",\"locale\":\"en-us\",\"time\":\"2020-04-13T19:45:00.295Z\",\"user\":\"blt85aae568f2119ad8\"}}},{\"cdlFooterInfo\":{\"locale\":\"en-us\",\"ACL\":{},\"InProgress\":false,\"Version\":44,\"createdAt\":\"2019-08-07T09:34:29.849Z\",\"createdBy\":\"blt4f7f7256a2373fb7\",\"description\":\"\\\\u003cp\\\\u003e© 2019 Activision Publishing, Inc.  CALL OF DUTY, MODERN WARFARE, and CALL OF DUTY LEAGUE are trademarks of Activision Publishing, Inc.  The Call of Duty League team names, logos and other team trademarks are the properties of their respective owners. All other trademarks and trade names are the properties of their respective owners.\\\\u003c/p\\\\u003e\\\\n\\\\u003cp\\\\u003eWe\\'ve updated our Privacy Policy. You can view the revised policy \\\\u003ca href=\\\\\"https://www.callofdutyleague.com/en-us/privacy\\\\\" style=\\\\\"text-decoration: none;\\\\\"\\\\u003ehere.\\\\u003c/a\\\\u003e \\\\u003cbr/\\\\u003e By continuing to use Call of Duty League\\'s websites, products or services, you acknowledge this revised Privacy Policy.\\\\u003c/p\\\\u003e\",\"links\":[{\"title\":\"PRIVACY POLICY\",\"type\":\"Internal\",\"url\":\"/privacy\"},{\"title\":\"TERMS OF USE\",\"type\":\"Internal\",\"url\":\"/terms-of-use\"},{\"title\":\"COOKIE POLICY\",\"type\":\"Internal\",\"url\":\"/cookie-policy\"},{\"title\":\"CONTACT US\",\"type\":\"Internal\",\"url\":\"/contact-us\"}],\"tags\":[],\"title\":\"Footer\",\"topLogos\":[{\"src\":\"https://images.blz-contentstack.com/v3/assets/blta7b34f1f894a2422/bltdd36cb2bc256bd77/5d4a9b0afbf0e17fc6dafdd5/activision-logo.svg?auto=webp\"},{\"src\":\"https://images.blz-contentstack.com/v3/assets/blta7b34f1f894a2422/blt10f0d59f97d93946/5d8940702f5989598fc7de16/CDL_Logo.svg?auto=webp\",\"alt\":\"\"}],\"uid\":\"blt507c90d72aabd434\",\"updatedAt\":\"2020-02-10T17:41:49.052Z\",\"updatedBy\":\"blt85aae568f2119ad8\",\"publishDetails\":{\"environment\":\"blt32369acdba41f6a8\",\"locale\":\"en-us\",\"time\":\"2020-04-06T17:59:52.745Z\",\"user\":\"blt85aae568f2119ad8\"},\"ContentTypeUid\":\"block_cdl_footer_info\"}}],\"title\":\"Match Detail\",\"descriptionBlurb\":\"\",\"statusCode\":200,\"openGraphTags\":{},\"renderBlockContext\":{\"queryParams\":{},\"csPath\":\"/match/___id___\",\"path\":\"/en-us/match/3638\",\"locale\":\"en-us\",\"stackConfig\":{\"Version\":8,\"locale\":\"en-us\",\"uid\":\"blt21329050399a1abd\",\"ACL\":{},\"InProgress\":false,\"appName\":\"Call of Duty League\",\"configColors\":{\"locale\":\"en-us\",\"title\":\"App Colors\",\"dominantColor\":\"#246dff\",\"accentColor\":\"#246dff\",\"secondaryAccentColor\":\"#246dff\",\"headerBackground\":\"#000000\",\"headerText\":\"#ffffff\",\"playhead\":\"#ffffff\",\"alternateCtaTextColor\":\"#ffffff\",\"tags\":[],\"uid\":\"blt118f00eaa60318f1\",\"createdBy\":\"blt4f7f7256a2373fb7\",\"updatedBy\":\"blt85aae568f2119ad8\",\"createdAt\":\"2019-09-11T04:21:07.365Z\",\"updatedAt\":\"2019-10-25T02:01:45.248Z\",\"ContentTypeUid\":\"config_colors\",\"ACL\":{},\"Version\":13,\"publishDetails\":{\"environment\":\"blt32369acdba41f6a8\",\"locale\":\"en-us\",\"time\":\"2019-10-25T02:01:50.840Z\",\"user\":\"blt85aae568f2119ad8\"}},\"createdAt\":\"2019-09-11T04:22:53.596Z\",\"createdBy\":\"blt4f7f7256a2373fb7\",\"favicon\":{\"faviconRegular\":{\"src\":\"https://images.blz-contentstack.com/v3/assets/blta7b34f1f894a2422/bltf3cdb76182c1a1d7/5d79c2bccfdefb1cd5f97376/favicon-32x32.png?auto=webp\"},\"faviconAppleTouch\":{\"src\":\"https://images.blz-contentstack.com/v3/assets/blta7b34f1f894a2422/bltb6fa61228ce745cd/5d79c2c9cfdefb1cd5f9737c/apple-touch-icon.png?auto=webp\"}},\"meta\":{\"ContentTypeUid\":\"config_meta_data\",\"Version\":21,\"locale\":\"en-us\",\"uid\":\"blt95895c1e0053d2ba\",\"ACL\":{},\"InProgress\":false,\"assets\":{\"undefinedTeamLogo\":{\"src\":\"https://images.blz-contentstack.com/v3/assets/blta7b34f1f894a2422/blt49cfe77275da67df/5e1f72beb8a6493cb7bd40ac/call_of_duty_positive_logo.svg?auto=webp\"}},\"createdAt\":\"2019-09-11T04:22:21.647Z\",\"createdBy\":\"blt4f7f7256a2373fb7\",\"strings\":{\"tbd\":\"TBD\",\"sponsoredBy\":\"Presented By\",\"blockMessageErrorTitle\":\"Kaboom\",\"blockMessageErrorDetail\":\"Something happened with the layout of this page. We\\'ll get right on it. Go back to get the latest on League action\",\"timeTba\":\"Time TBA\",\"watch\":\"Watch\",\"dateTba\":\"Date TBA\",\"live\":\"Live\",\"tickets\":\"Tickets\",\"allTeams\":\"All Teams\",\"season\":\"Season\",\"matchDetails\":\"Match Details\",\"upNext\":\"UP NEXT\",\"final\":\"Final\",\"playing\":\"PLAYING\",\"liveNow\":\"Live Now\",\"nowPlaying\":\"Now Playing\",\"videos\":\"Videos\",\"ageGatingErrorMessage\":\"Sorry, you do not meet the minimum requirements.\",\"dateOfBirth\":\"Date of Birth\",\"enterYourDateOfBirth\":\"Enter your date of birth\",\"submit\":\"Submit\",\"mins\":\"Mins\",\"nextReward\":\"Total Progress\",\"totalWatched\":\"Next Reward\",\"ticketsNotAvailable\":\"\"},\"tags\":[],\"title\":\"Blocks Meta Data\",\"updatedAt\":\"2020-09-21T21:19:13.906Z\",\"updatedBy\":\"blt85aae568f2119ad8\",\"publishDetails\":{\"environment\":\"blt32369acdba41f6a8\",\"locale\":\"en-us\",\"time\":\"2020-09-21T21:22:59.928Z\",\"user\":\"blt85aae568f2119ad8\"}},\"sentinelBroadcasterId\":\"cdl\",\"title\":\"Config Area\",\"updatedAt\":\"2020-05-19T20:46:08.496Z\",\"updatedBy\":\"blt4f7f7256a2373fb7\",\"publishDetails\":{\"environment\":\"blt32369acdba41f6a8\",\"locale\":\"en-us\",\"time\":\"2020-05-19T22:57:48.188Z\",\"user\":\"blt4f7f7256a2373fb7\"},\"ContentTypeUid\":\"config_area\"},\"isContenders\":false},\"theme\":{\"locale\":\"en-us\",\"title\":\"App Colors\",\"dominantColor\":\"#246dff\",\"accentColor\":\"#246dff\",\"secondaryAccentColor\":\"#246dff\",\"headerBackground\":\"#000000\",\"headerText\":\"#ffffff\",\"playhead\":\"#ffffff\",\"alternateCtaTextColor\":\"#ffffff\",\"tags\":[],\"uid\":\"blt118f00eaa60318f1\",\"createdBy\":\"blt4f7f7256a2373fb7\",\"updatedBy\":\"blt85aae568f2119ad8\",\"createdAt\":\"2019-09-11T04:21:07.365Z\",\"updatedAt\":\"2019-10-25T02:01:45.248Z\",\"ContentTypeUid\":\"config_colors\",\"ACL\":{},\"Version\":13,\"publishDetails\":{\"environment\":\"blt32369acdba41f6a8\",\"locale\":\"en-us\",\"time\":\"2019-10-25T02:01:50.840Z\",\"user\":\"blt85aae568f2119ad8\"}}}},\"page\":\"/\",\"query\":{},\"buildId\":\"6Zjwb09_YDEr3erQiK4t5\",\"isFallback\":false,\"customServer\":true,\"gip\":true}'"
      ]
     },
     "execution_count": 52,
     "metadata": {},
     "output_type": "execute_result"
    }
   ],
   "source": [
    "string_soup_list_1[0]"
   ]
  },
  {
   "cell_type": "code",
   "execution_count": 54,
   "metadata": {},
   "outputs": [],
   "source": [
    "import json"
   ]
  },
  {
   "cell_type": "code",
   "execution_count": 57,
   "metadata": {},
   "outputs": [],
   "source": [
    "content_dict = json.loads(string_soup_list_1[0])"
   ]
  },
  {
   "cell_type": "code",
   "execution_count": 66,
   "metadata": {},
   "outputs": [
    {
     "data": {
      "text/plain": [
       "{'id': 7,\n",
       " 'name': 'Atlanta FaZe',\n",
       " 'abbreviation': 'ATL',\n",
       " 'lightLogoUrl': 'https://images.blz-contentstack.com/v3/assets/blta7b34f1f894a2422/blt6ec730c1178cc1cd/5dd596f49147457fdde604ba/ATL-FAZ_Primary-Logo.png',\n",
       " 'darkLogoUrl': 'https://images.blz-contentstack.com/v3/assets/blta7b34f1f894a2422/blte85ebc345d4dcc98/5dc48a1813b457491b4beba3/ATL-FAZ_Alternate-Logo-2@3x.png',\n",
       " 'color': '#e43d30'}"
      ]
     },
     "execution_count": 66,
     "metadata": {},
     "output_type": "execute_result"
    }
   ],
   "source": [
    "content_dict['props']['pageProps']['blocks'][1]['cdlMatchDetail']['matchData']['matchExtended']['homeTeamCard']"
   ]
  },
  {
   "cell_type": "code",
   "execution_count": 75,
   "metadata": {},
   "outputs": [],
   "source": [
    "home_team = content_dict['props']['pageProps']['blocks'][1]['cdlMatchDetail']['matchData']['matchExtended']['homeTeamCard']['name']\n",
    "home_team_id = content_dict['props']['pageProps']['blocks'][1]['cdlMatchDetail']['matchData']['matchExtended']['homeTeamCard']['id']"
   ]
  },
  {
   "cell_type": "code",
   "execution_count": 76,
   "metadata": {},
   "outputs": [
    {
     "data": {
      "text/plain": [
       "7"
      ]
     },
     "execution_count": 76,
     "metadata": {},
     "output_type": "execute_result"
    }
   ],
   "source": [
    "home_team_id"
   ]
  },
  {
   "cell_type": "code",
   "execution_count": 77,
   "metadata": {},
   "outputs": [],
   "source": [
    "away_team = content_dict['props']['pageProps']['blocks'][1]['cdlMatchDetail']['matchData']['matchExtended']['awayTeamCard']['name']\n",
    "away_team_id = content_dict['props']['pageProps']['blocks'][1]['cdlMatchDetail']['matchData']['matchExtended']['awayTeamCard']['id']"
   ]
  },
  {
   "cell_type": "code",
   "execution_count": 78,
   "metadata": {},
   "outputs": [
    {
     "data": {
      "text/plain": [
       "12"
      ]
     },
     "execution_count": 78,
     "metadata": {},
     "output_type": "execute_result"
    }
   ],
   "source": [
    "away_team_id"
   ]
  },
  {
   "cell_type": "code",
   "execution_count": 80,
   "metadata": {},
   "outputs": [],
   "source": [
    "home_team_wins = content_dict['props']['pageProps']['blocks'][1]['cdlMatchDetail']['matchData']['matchExtended']['result']['homeTeamGamesWon']\n",
    "away_team_wins = content_dict['props']['pageProps']['blocks'][1]['cdlMatchDetail']['matchData']['matchExtended']['result']['awayTeamGamesWon']\n",
    "winning_team_id = content_dict['props']['pageProps']['blocks'][1]['cdlMatchDetail']['matchData']['matchExtended']['result']['winnerTeamId']\n",
    "loser_team_id = content_dict['props']['pageProps']['blocks'][1]['cdlMatchDetail']['matchData']['matchExtended']['result']['loserTeamId']"
   ]
  },
  {
   "cell_type": "code",
   "execution_count": 104,
   "metadata": {},
   "outputs": [
    {
     "data": {
      "text/plain": [
       "dict_keys(['matchGame', 'matchGameResult'])"
      ]
     },
     "execution_count": 104,
     "metadata": {},
     "output_type": "execute_result"
    }
   ],
   "source": [
    "match_games = content_dict['props']['pageProps']['blocks'][1]['cdlMatchDetail']['matchData']['matchGamesExtended']\n",
    "match_games[0].keys()"
   ]
  },
  {
   "cell_type": "code",
   "execution_count": 110,
   "metadata": {},
   "outputs": [
    {
     "name": "stdout",
     "output_type": "stream",
     "text": [
      "1\n",
      "2\n",
      "3\n",
      "4\n",
      "5\n"
     ]
    }
   ],
   "source": [
    "matches = []\n",
    "counter = 0\n",
    "\n",
    "for game in match_games:\n",
    "    counter += 1\n",
    "    print(counter)\n",
    "    match_no = game['matchGame']['number']\n",
    "    match_map = game['matchGame']['map']\n",
    "    mode = game['matchGame']['mode']\n",
    "    locale = game['matchGame']['gameMap']['locale']\n",
    "    try:\n",
    "        home_score = game['matchGameResult']['hostGameScore']\n",
    "        away_score = game['matchGameResult']['guestGameScore']\n",
    "        winning_team = game['matchGameResult']['winnerTeamId']\n",
    "        losing_team = game['matchGameResult']['loserTeamId']\n",
    "    except:\n",
    "        home_score = 0\n",
    "        away_score = 0\n",
    "        winning_team = 0\n",
    "        losing_team = 0\n",
    "        pass\n",
    "    matches.append([match_no, match_map, mode, locale, home_score, away_score, winning_team, losing_team])"
   ]
  },
  {
   "cell_type": "code",
   "execution_count": 111,
   "metadata": {},
   "outputs": [
    {
     "data": {
      "text/plain": [
       "[[0, 'Rammaza', 'Hardpoint', 'en-us', 250, 237, 7, 12],\n",
       " [1, 'Gun Runner', 'Search and Destroy', 'en-us', 6, 1, 7, 12],\n",
       " [2, 'Gun Runner', 'Domination', 'en-us', 173, 158, 7, 12],\n",
       " [3, 'St. Petrograd', 'Hardpoint', 'en-us', 0, 0, 0, 0],\n",
       " [4, 'Rammaza', 'Search and Destroy', 'en-us', 0, 0, 0, 0]]"
      ]
     },
     "execution_count": 111,
     "metadata": {},
     "output_type": "execute_result"
    }
   ],
   "source": [
    "matches"
   ]
  },
  {
   "cell_type": "code",
   "execution_count": null,
   "metadata": {},
   "outputs": [],
   "source": []
  },
  {
   "cell_type": "code",
   "execution_count": null,
   "metadata": {},
   "outputs": [],
   "source": []
  }
 ],
 "metadata": {
  "kernelspec": {
   "display_name": "Python 3",
   "language": "python",
   "name": "python3"
  },
  "language_info": {
   "codemirror_mode": {
    "name": "ipython",
    "version": 3
   },
   "file_extension": ".py",
   "mimetype": "text/x-python",
   "name": "python",
   "nbconvert_exporter": "python",
   "pygments_lexer": "ipython3",
   "version": "3.7.3"
  }
 },
 "nbformat": 4,
 "nbformat_minor": 2
}
